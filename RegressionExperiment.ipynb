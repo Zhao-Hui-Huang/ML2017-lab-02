{
 "cells": [
  {
   "cell_type": "code",
   "execution_count": 23,
   "metadata": {
    "collapsed": true
   },
   "outputs": [],
   "source": [
    "from sklearn.datasets import load_svmlight_file\n",
    "from sklearn.model_selection import train_test_split\n",
    "import numpy as np\n",
    "import matplotlib.pyplot as plt\n",
    "import random"
   ]
  },
  {
   "cell_type": "code",
   "execution_count": 24,
   "metadata": {
    "collapsed": true
   },
   "outputs": [],
   "source": [
    "def get_data(dataset):\n",
    "    data = load_svmlight_file(\"./{}\".format(dataset))\n",
    "    input_data = data[0].toarray()\n",
    "    return input_data, data[1]"
   ]
  },
  {
   "cell_type": "code",
   "execution_count": 25,
   "metadata": {
    "collapsed": true
   },
   "outputs": [],
   "source": [
    "def sigmoid(w, X):\n",
    "    return 1.0/(1.0+np.e**(-np.dot(X, w)))"
   ]
  },
  {
   "cell_type": "code",
   "execution_count": 33,
   "metadata": {},
   "outputs": [
    {
     "data": {
      "image/png": "[encoded data removed]",
      "text/plain": [
       "<matplotlib.figure.Figure at 0xb8399e8>"
      ]
     },
     "metadata": {},
     "output_type": "display_data"
    }
   ],
   "source": [
    "batch_size=10000\n",
    "nEpochs=100\n",
    "eta=0.01\n",
    "algorithm=0\n",
    "\n",
    "# get dataset\n",
    "# x_train, x_validation, y_train, y_validation = get_dataset(input_data, label)\n",
    "x_train, y_train = get_data('a9a')\n",
    "x_validation, y_validation = get_data('a9a.t')\n",
    "\n",
    "# handle data\n",
    "temp = np.zeros((len(x_validation), 1))\n",
    "x_validation = np.column_stack((x_validation, temp))\n",
    "y_train[y_train==-1] = 0\n",
    "y_validation[y_validation==-1] = 0\n",
    "\n",
    "# modify bias\n",
    "train_column = np.ones((len(x_train), 1))\n",
    "x_train = np.column_stack((x_train, train_column))\n",
    "validation_column = np.ones((len(x_validation), 1))\n",
    "x_validation = np.column_stack((x_validation, validation_column))\n",
    "\n",
    "# number of batch\n",
    "num_batch = int(len(x_train)/batch_size + 1)\n",
    "\n",
    "for algorithm in range(5):    \n",
    "    # initialize the v(t-1) NAG\n",
    "    v_t_1 = np.zeros((123+1, 1))\n",
    "    # initialize the g(t-1) RMSProp\n",
    "    g_t_1 = np.zeros((123+1, 1))\n",
    "    # initialize the delta(t-1) AdaDelta\n",
    "    delta_t_1 = np.zeros((123+1, 1))\n",
    "    # initialize the v(t-1) and m(t-1) Adam\n",
    "    v_t_1_a = np.zeros((123+1, 1))\n",
    "    m_t_1 = np.zeros((123+1, 1))\n",
    "    \n",
    "    training_loss_array = []\n",
    "    validationing_loss_array = []\n",
    "    \n",
    "    # init w\n",
    "    w = w = np.zeros((124, 1))\n",
    "    \n",
    "    for i in range(nEpochs):\n",
    "        training_loss = 0.0\n",
    "        validationing_loss = 0.0\n",
    "        # shuffle each batch in different epochs\n",
    "        shuffle = random.sample(range(len(x_train)), len(x_train))\n",
    "        for j in range(num_batch):\n",
    "            # batch\n",
    "            if j!=num_batch-1:\n",
    "                # the data in each batch\n",
    "                x = x_train[shuffle[j*batch_size:(j+1)*batch_size]]\n",
    "                y = y_train[shuffle[j*batch_size:(j+1)*batch_size]]\n",
    "            elif j==num_batch-1:\n",
    "                # the data in each batch\n",
    "                x = x_train[shuffle[j*batch_size:]]\n",
    "                y = y_train[shuffle[j*batch_size:]]\n",
    "\n",
    "            if algorithm==0:\n",
    "                # SGD\n",
    "                # calculate the gradient\n",
    "                grad = (np.dot(np.transpose(x), (sigmoid(w, x) - y.reshape(-1, 1))))/len(x)\n",
    "                # update\n",
    "                w = w - eta * grad\n",
    "            elif algorithm==1:\n",
    "                # NAG\n",
    "                grad = (np.dot(np.transpose(x), (sigmoid((w-0.9*v_t_1), x) - y.reshape(-1, 1))))/len(x)\n",
    "                v_t = 0.9*v_t_1 + eta * grad\n",
    "                # update\n",
    "                w = w - v_t\n",
    "                v_t_1 = v_t.copy()\n",
    "\n",
    "            elif algorithm==2:\n",
    "                # RMSProp\n",
    "                # calculate the gradient\n",
    "                grad = (np.dot(np.transpose(x), (sigmoid(w, x) - y.reshape(-1, 1))))/len(x)\n",
    "                g_t = grad.copy()\n",
    "                g_t = 0.1 * np.square(g_t_1) + 0.9 * np.square(g_t)\n",
    "\n",
    "                # update\n",
    "                w = w - (eta*grad)/np.sqrt(np.mean(g_t)+0.001)\n",
    "                g_t_1 = g_t.copy()\n",
    "\n",
    "            elif algorithm==3:\n",
    "                # AdaDelta\n",
    "                # calculate the gradient\n",
    "                grad = (np.dot(np.transpose(x), (sigmoid(w, x) - y.reshape(-1, 1))))/len(x)\n",
    "                g_t = grad.copy()\n",
    "                g_t = 0.1 * np.square(g_t_1) + 0.9 * np.square(g_t)\n",
    "\n",
    "                # update\n",
    "                delta_w = (np.sqrt(np.mean(delta_t_1)+0.001)/np.sqrt(np.mean(g_t)+0.001))*grad\n",
    "                w = w - delta_w\n",
    "                delta_t = 0.9 * delta_t_1 + 0.1 * np.square(delta_w)\n",
    "                delta_t_1 = delta_t.copy()            \n",
    "\n",
    "            elif algorithm==4:\n",
    "                # Adam\n",
    "                # calculate the gradient\n",
    "                grad = (np.dot(np.transpose(x), (sigmoid(w, x) - y.reshape(-1, 1))))/len(x)\n",
    "                m_t = 0.9 * m_t_1 + 0.1 * grad\n",
    "                v_t_a = 0.999 * v_t_1_a + 0.001 * np.square(grad)\n",
    "                m_t_hat = m_t / ( 1 - np.power(0.9, i*num_batch+j+1))\n",
    "                v_t_a_hat = v_t_a / ( 1 - np.power(0.999, i*num_batch+j+1))\n",
    "                # update\n",
    "                w = w - eta * m_t_hat / (np.sqrt(v_t_a_hat) + 1e-8)\n",
    "                m_t = m_t_hat\n",
    "                v_t_a = v_t_a_hat        \n",
    "\n",
    "            # training error and validationing error\n",
    "            training_loss += -np.mean(y_train.reshape(-1, 1) * np.log(sigmoid(w, x_train)) + (1 - y_train.reshape(-1, 1)) * (np.log(1 - sigmoid(w, x_train))))\n",
    "            validationing_loss += -np.mean(y_validation.reshape(-1, 1) * np.log(sigmoid(w, x_validation)) + (1 - y_validation.reshape(-1, 1)) * (np.log(1 - sigmoid(w, x_validation))))\n",
    "\n",
    "        training_loss = training_loss/num_batch\n",
    "        validationing_loss = validationing_loss/num_batch\n",
    "        training_loss_array.append(training_loss)\n",
    "        validationing_loss_array.append(validationing_loss)\n",
    "    if algorithm==0:\n",
    "        algorithm_loss_array = validationing_loss_array\n",
    "    else:\n",
    "        algorithm_loss_array = np.vstack((algorithm_loss_array,validationing_loss_array))\n",
    "    \n",
    "\n",
    "#plot\n",
    "x = np.array(range(1, nEpochs+1))\n",
    "\n",
    "algorithm_name_str = ['SGD', 'NAG', 'RMSProp', 'Adadelta', 'Adam']\n",
    "\n",
    "for i in range(5):\n",
    "    plt.plot(x, np.array(algorithm_loss_array[i]), label=algorithm_name_str[i])\n",
    "plt.xlabel(\"Epoch\")\n",
    "plt.ylabel(\"Loss\")\n",
    "plt.title(\"Loss \")\n",
    "\n",
    "plt.legend();\n",
    "plt.show()"
   ]
  },
  {
   "cell_type": "code",
   "execution_count": null,
   "metadata": {
    "collapsed": true
   },
   "outputs": [],
   "source": []
  }
 ],
 "metadata": {
  "kernelspec": {
   "display_name": "Python 3",
   "language": "python",
   "name": "python3"
  },
  "language_info": {
   "codemirror_mode": {
    "name": "ipython",
    "version": 3
   },
   "file_extension": ".py",
   "mimetype": "text/x-python",
   "name": "python",
   "nbconvert_exporter": "python",
   "pygments_lexer": "ipython3",
   "version": "3.6.3"
  }
 },
 "nbformat": 4,
 "nbformat_minor": 2
}
